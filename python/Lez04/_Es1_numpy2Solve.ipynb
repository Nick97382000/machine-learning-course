{
  "cells": [
    {
      "cell_type": "markdown",
      "metadata": {
        "id": "G37gIOcXmpGn"
      },
      "source": [
        "## 1 Calcolare il valore massimo:"
      ]
    },
    {
      "cell_type": "code",
      "execution_count": 1,
      "metadata": {
        "colab": {
          "base_uri": "https://localhost:8080/"
        },
        "id": "IJ_wA-LkmpGp",
        "outputId": "528e0218-d235-4c38-a058-f92f8281f5fc"
      },
      "outputs": [
        {
          "output_type": "stream",
          "name": "stdout",
          "text": [
            "Valore massimo: 8\n"
          ]
        }
      ],
      "source": [
        "import numpy as np\n",
        "\n",
        "array = np.array([1, 5, 8, 3, 2, 7])\n",
        "\n",
        "max_value = np.max(array)\n",
        "\n",
        "print(\"Valore massimo:\", max_value)"
      ]
    },
    {
      "cell_type": "markdown",
      "metadata": {
        "id": "i0jvLPFLmpGq"
      },
      "source": [
        "## 2 Calcolare il valore minimo:"
      ]
    },
    {
      "cell_type": "code",
      "execution_count": 2,
      "metadata": {
        "colab": {
          "base_uri": "https://localhost:8080/"
        },
        "id": "j9guoH9XmpGq",
        "outputId": "7808736c-1d71-42bc-a007-2d69a0f798ce"
      },
      "outputs": [
        {
          "output_type": "stream",
          "name": "stdout",
          "text": [
            "Valore minimo: 1\n"
          ]
        }
      ],
      "source": [
        "import numpy as np\n",
        "\n",
        "array = np.array([1, 5, 8, 3, 2, 7])\n",
        "\n",
        "min_value = np.min(array)\n",
        "\n",
        "print(\"Valore minimo:\", min_value)"
      ]
    },
    {
      "cell_type": "markdown",
      "metadata": {
        "id": "RMWtWWRZmpGq"
      },
      "source": [
        "## 3 Calcolare la somma di tutti gli elementi:"
      ]
    },
    {
      "cell_type": "code",
      "execution_count": 3,
      "metadata": {
        "colab": {
          "base_uri": "https://localhost:8080/"
        },
        "id": "xCykPRljmpGr",
        "outputId": "4da33cff-1ed9-4198-a65a-50a1daaedc69"
      },
      "outputs": [
        {
          "output_type": "stream",
          "name": "stdout",
          "text": [
            "Somma di tutti gli elementi: 26\n"
          ]
        }
      ],
      "source": [
        "import numpy as np\n",
        "\n",
        "array = np.array([1, 5, 8, 3, 2, 7])\n",
        "\n",
        "sum_value = np.sum(array)\n",
        "\n",
        "print(\"Somma di tutti gli elementi:\", sum_value)"
      ]
    },
    {
      "cell_type": "markdown",
      "metadata": {
        "id": "csXpWGSHmpGr"
      },
      "source": [
        "## 4 Calcolare la media degli elementi:"
      ]
    },
    {
      "cell_type": "code",
      "execution_count": 4,
      "metadata": {
        "colab": {
          "base_uri": "https://localhost:8080/"
        },
        "id": "luHuod7impGr",
        "outputId": "635450ed-7d8f-4c74-baee-019d09381ea9"
      },
      "outputs": [
        {
          "output_type": "stream",
          "name": "stdout",
          "text": [
            "Media degli elementi: 4.333333333333333\n"
          ]
        }
      ],
      "source": [
        "import numpy as np\n",
        "\n",
        "array = np.array([1, 5, 8, 3, 2, 7])\n",
        "\n",
        "mean_value = np.mean(array)\n",
        "\n",
        "print(\"Media degli elementi:\", mean_value)"
      ]
    },
    {
      "cell_type": "markdown",
      "metadata": {
        "id": "est6OVMampGr"
      },
      "source": [
        "## 5 Contare il numero totale di elementi:"
      ]
    },
    {
      "cell_type": "code",
      "execution_count": 5,
      "metadata": {
        "colab": {
          "base_uri": "https://localhost:8080/"
        },
        "id": "GTGcOdJ1mpGr",
        "outputId": "20db7903-b85c-40f0-b0a3-5da1a743fe90"
      },
      "outputs": [
        {
          "output_type": "stream",
          "name": "stdout",
          "text": [
            "Numero totale di elementi: 6\n"
          ]
        }
      ],
      "source": [
        "import numpy as np\n",
        "\n",
        "array = np.array([1, 5, 8, 3, 2, 7])\n",
        "\n",
        "count = array.size\n",
        "print(\"Numero totale di elementi:\", count)"
      ]
    },
    {
      "cell_type": "markdown",
      "metadata": {
        "id": "z6lDKdvGmpGs"
      },
      "source": [
        "## 6 Contare il numero di elementi distinti:\n"
      ]
    },
    {
      "cell_type": "code",
      "execution_count": 11,
      "metadata": {
        "colab": {
          "base_uri": "https://localhost:8080/"
        },
        "id": "BmsmXbPwmpGs",
        "outputId": "89421891-4532-4729-b72d-d8477a14eb55"
      },
      "outputs": [
        {
          "output_type": "stream",
          "name": "stdout",
          "text": [
            "Numero di elementi distinti: 8\n"
          ]
        }
      ],
      "source": [
        "import numpy as np\n",
        "\n",
        "array = np.array([1, 5, 8, 3, 2, 7, 5, 3])\n",
        "\n",
        "unique_count = np.unique_counts(array)\n",
        "\n",
        "print(\"Numero di elementi distinti:\", np.sum(unique_count.counts))"
      ]
    },
    {
      "cell_type": "markdown",
      "metadata": {
        "id": "NDXeSM0LmpGs"
      },
      "source": [
        "## 7 Trova gli indici degli elementi massimi:"
      ]
    },
    {
      "cell_type": "code",
      "execution_count": 12,
      "metadata": {
        "colab": {
          "base_uri": "https://localhost:8080/"
        },
        "id": "MdMQdSENmpGs",
        "outputId": "ba7fda31-f844-4113-cf3b-d2439b8449ce"
      },
      "outputs": [
        {
          "output_type": "stream",
          "name": "stdout",
          "text": [
            "Indice dell'elemento massimo: 2\n"
          ]
        }
      ],
      "source": [
        "import numpy as np\n",
        "\n",
        "array = np.array([1, 5, 8, 3, 2, 7])\n",
        "\n",
        "max_indices = np.argmax(array)\n",
        "\n",
        "print(\"Indice dell'elemento massimo:\", max_indices)"
      ]
    },
    {
      "cell_type": "markdown",
      "metadata": {
        "id": "ikyfa2srmpGs"
      },
      "source": [
        "## 8 Trova gli indici degli elementi minimi:\n"
      ]
    },
    {
      "cell_type": "code",
      "execution_count": 13,
      "metadata": {
        "colab": {
          "base_uri": "https://localhost:8080/"
        },
        "id": "JIMgub-0mpGs",
        "outputId": "f13535e5-e6c2-4e9f-b235-b105663bd84c"
      },
      "outputs": [
        {
          "output_type": "stream",
          "name": "stdout",
          "text": [
            "Indice dell'elemento minimo: 0\n"
          ]
        }
      ],
      "source": [
        "import numpy as np\n",
        "\n",
        "array = np.array([1, 5, 8, 3, 2, 7])\n",
        "\n",
        "min_indices = np.argmin(array)\n",
        "\n",
        "print(\"Indice dell'elemento minimo:\", min_indices)"
      ]
    },
    {
      "cell_type": "markdown",
      "metadata": {
        "id": "gCD0bL11mpGs"
      },
      "source": [
        "## 9 Calcolare la deviazione standard:\n"
      ]
    },
    {
      "cell_type": "code",
      "execution_count": 15,
      "metadata": {
        "colab": {
          "base_uri": "https://localhost:8080/"
        },
        "id": "QN9H1nEImpGs",
        "outputId": "a82598bf-dc6a-45ed-bcff-3f5550838dc8"
      },
      "outputs": [
        {
          "output_type": "stream",
          "name": "stdout",
          "text": [
            "Deviazione standard: 2.560381915956203\n"
          ]
        }
      ],
      "source": [
        "import numpy as np\n",
        "\n",
        "array = np.array([1, 5, 8, 3, 2, 7])\n",
        "\n",
        "std_dev = np.std(array)\n",
        "\n",
        "print(\"Deviazione standard:\", std_dev)"
      ]
    },
    {
      "cell_type": "markdown",
      "metadata": {
        "id": "XiX4qPjAmpGs"
      },
      "source": [
        "## 10 Calcolare la varianza:"
      ]
    },
    {
      "cell_type": "code",
      "execution_count": 14,
      "metadata": {
        "colab": {
          "base_uri": "https://localhost:8080/"
        },
        "id": "cVsLpxbMmpGs",
        "outputId": "ad6117bc-c22f-4f60-cca4-a0ebb9da387e"
      },
      "outputs": [
        {
          "output_type": "stream",
          "name": "stdout",
          "text": [
            "Varianza: 6.555555555555556\n"
          ]
        }
      ],
      "source": [
        "import numpy as np\n",
        "\n",
        "# quanto i valori di un insieme di dati si discostano dalla loro media\n",
        "array = np.array([1, 5, 8, 3, 2, 7])\n",
        "\n",
        "variance = np.var(array)\n",
        "\n",
        "print(\"Varianza:\", variance)"
      ]
    },
    {
      "cell_type": "code",
      "execution_count": null,
      "metadata": {
        "id": "gekDOHLvmpGt"
      },
      "outputs": [],
      "source": []
    }
  ],
  "metadata": {
    "kernelspec": {
      "display_name": "Python 3",
      "language": "python",
      "name": "python3"
    },
    "language_info": {
      "codemirror_mode": {
        "name": "ipython",
        "version": 3
      },
      "file_extension": ".py",
      "mimetype": "text/x-python",
      "name": "python",
      "nbconvert_exporter": "python",
      "pygments_lexer": "ipython3",
      "version": "3.10.11"
    },
    "colab": {
      "provenance": []
    }
  },
  "nbformat": 4,
  "nbformat_minor": 0
}